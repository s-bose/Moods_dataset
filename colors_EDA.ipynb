{
 "cells": [
  {
   "cell_type": "code",
   "execution_count": 28,
   "id": "2f65ca49",
   "metadata": {},
   "outputs": [
    {
     "data": {
      "text/plain": [
       "(738, 23)"
      ]
     },
     "execution_count": 28,
     "metadata": {},
     "output_type": "execute_result"
    }
   ],
   "source": [
    "import numpy as np\n",
    "import pandas as pd\n",
    "import matplotlib.pyplot as plt\n",
    "from matplotlib import cm\n",
    "from skimage.color import hsv2rgb, rgb2hsv\n",
    "current_mood = pd.read_csv('current_mood.csv', index_col=0)\n",
    "current_mood.shape"
   ]
  },
  {
   "cell_type": "code",
   "execution_count": 29,
   "id": "b874385f",
   "metadata": {},
   "outputs": [
    {
     "data": {
      "text/plain": [
       "1.00    700\n",
       "0.25     13\n",
       "0.50     13\n",
       "0.75      8\n",
       "0.00      4\n",
       "Name: V, dtype: int64"
      ]
     },
     "execution_count": 29,
     "metadata": {},
     "output_type": "execute_result"
    }
   ],
   "source": [
    "H, W = 27, 27\n",
    "\n",
    "\n",
    "# current_mood[['V']][:H*W].to_numpy()[:10]\n",
    "current_mood['V'].value_counts()"
   ]
  },
  {
   "cell_type": "code",
   "execution_count": 30,
   "id": "e1d73aef",
   "metadata": {},
   "outputs": [
    {
     "data": {
      "text/plain": [
       "<matplotlib.image.AxesImage at 0x7f6c59027460>"
      ]
     },
     "execution_count": 30,
     "metadata": {},
     "output_type": "execute_result"
    },
    {
     "data": {
      "image/png": "[encoded data removed]",
      "text/plain": [
       "<Figure size 432x288 with 1 Axes>"
      ]
     },
     "metadata": {
      "needs_background": "light"
     },
     "output_type": "display_data"
    }
   ],
   "source": [
    "h = current_mood['H'][:H*W].to_numpy(dtype='float32').reshape(H, W)\n",
    "s = current_mood['S'][:H*W].to_numpy(dtype='float32').reshape(H, W)\n",
    "v = current_mood['V'][:H*W].to_numpy(dtype='float32').reshape(H, W)\n",
    "hsv_mat = np.dstack((h, s, v))\n",
    "\n",
    "\n",
    "mat = hsv2rgb(hsv_mat)\n",
    "mat = (mat * 255).astype('uint8')\n",
    "plt.imshow(mat, aspect='auto')"
   ]
  },
  {
   "cell_type": "code",
   "execution_count": 36,
   "id": "689a7409",
   "metadata": {},
   "outputs": [
    {
     "data": {
      "text/plain": [
       "array([0.82421875, 0.50196078, 1.        ])"
      ]
     },
     "execution_count": 36,
     "metadata": {},
     "output_type": "execute_result"
    }
   ],
   "source": [
    "rgb = mat\n",
    "\n",
    "hsv_alt = rgb2hsv(rgb)\n",
    "hsv_alt[0, 0]\n",
    "# plt.imshow(hsv_alt, aspect='auto', cmap=plt.get_cmap('hsv'))\n"
   ]
  },
  {
   "cell_type": "code",
   "execution_count": 37,
   "id": "57b1e7c5",
   "metadata": {},
   "outputs": [
    {
     "name": "stderr",
     "output_type": "stream",
     "text": [
      "Clipping input data to the valid range for imshow with RGB data ([0..1] for floats or [0..255] for integers).\n"
     ]
    },
    {
     "name": "stdout",
     "output_type": "stream",
     "text": [
      "[0.825 0.5   1.   ]\n"
     ]
    },
    {
     "data": {
      "text/plain": [
       "<matplotlib.image.AxesImage at 0x7f6c58f8e880>"
      ]
     },
     "execution_count": 37,
     "metadata": {},
     "output_type": "execute_result"
    },
    {
     "data": {
      "image/png": "[encoded data removed]",
      "text/plain": [
       "<Figure size 432x288 with 1 Axes>"
      ]
     },
     "metadata": {
      "needs_background": "light"
     },
     "output_type": "display_data"
    }
   ],
   "source": [
    "print(hsv_mat[0, 0])\n",
    "plt.imshow(hsv_mat, cmap='hsv', aspect='auto')"
   ]
  },
  {
   "cell_type": "code",
   "execution_count": null,
   "id": "3ceb081f",
   "metadata": {},
   "outputs": [],
   "source": []
  }
 ],
 "metadata": {
  "kernelspec": {
   "display_name": "Python 3 (ipykernel)",
   "language": "python",
   "name": "python3"
  },
  "language_info": {
   "codemirror_mode": {
    "name": "ipython",
    "version": 3
   },
   "file_extension": ".py",
   "mimetype": "text/x-python",
   "name": "python",
   "nbconvert_exporter": "python",
   "pygments_lexer": "ipython3",
   "version": "3.9.7"
  }
 },
 "nbformat": 4,
 "nbformat_minor": 5
}
